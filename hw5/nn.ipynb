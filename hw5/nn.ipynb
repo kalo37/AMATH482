{
 "cells": [
  {
   "cell_type": "code",
   "execution_count": 60,
   "metadata": {},
   "outputs": [],
   "source": [
    "import numpy as np\n",
    "from keras.models import Sequential\n",
    "from keras.layers import Dense, Dropout, Activation, Flatten\n",
    "from keras.layers import Convolution2D, MaxPooling2D, Conv2D\n",
    "from keras.utils import np_utils\n",
    "from keras.datasets import mnist\n",
    "from keras import optimizers"
   ]
  },
  {
   "cell_type": "code",
   "execution_count": 4,
   "metadata": {},
   "outputs": [],
   "source": [
    "np.random.seed(482)"
   ]
  },
  {
   "cell_type": "code",
   "execution_count": 5,
   "metadata": {},
   "outputs": [
    {
     "name": "stdout",
     "output_type": "stream",
     "text": [
      "Downloading data from https://s3.amazonaws.com/img-datasets/mnist.npz\n",
      "11493376/11490434 [==============================] - 4s 0us/step\n",
      "(60000, 28, 28)\n"
     ]
    }
   ],
   "source": [
    "# load data\n",
    "(x_train, y_train), (x_test, y_test) = mnist.load_data()\n",
    "print(x_train.shape) # 60000 images, 28x28 pixels per image"
   ]
  },
  {
   "cell_type": "code",
   "execution_count": 7,
   "metadata": {},
   "outputs": [
    {
     "data": {
      "image/png": "[encoded data removed]",
      "text/plain": [
       "<matplotlib.figure.Figure at 0x1814e22358>"
      ]
     },
     "metadata": {},
     "output_type": "display_data"
    }
   ],
   "source": [
    "# plot first sample image of x_train\n",
    "import matplotlib.pyplot as plt\n",
    "plt.imshow(x_train[0])\n",
    "plt.show()"
   ]
  },
  {
   "cell_type": "code",
   "execution_count": 13,
   "metadata": {},
   "outputs": [
    {
     "data": {
      "text/plain": [
       "dtype('uint8')"
      ]
     },
     "execution_count": 13,
     "metadata": {},
     "output_type": "execute_result"
    }
   ],
   "source": [
    "x_train.dtype"
   ]
  },
  {
   "cell_type": "code",
   "execution_count": 10,
   "metadata": {},
   "outputs": [],
   "source": [
    "# normalize the values to [0, 1], as a float\n",
    "x_train_norm = x_train.astype('float32')\n",
    "x_test_norm = x_test.astype('float32')\n",
    "x_train_norm /= 255\n",
    "x_test_norm /= 255"
   ]
  },
  {
   "cell_type": "code",
   "execution_count": 25,
   "metadata": {},
   "outputs": [
    {
     "name": "stdout",
     "output_type": "stream",
     "text": [
      "(60000, 28, 28, 1)\n"
     ]
    }
   ],
   "source": [
    "# reshape train and test data\n",
    "x_train_norm_reshaped = x_train_norm.reshape(x_train_norm.shape[0], 28, 28, 1) # samples, height, width, channels\n",
    "x_test_norm_reshaped = x_test_norm.reshape(x_test_norm.shape[0], 28, 28, 1)\n",
    "print(x_train_norm_reshaped.shape) # confirm reshape is correct"
   ]
  },
  {
   "cell_type": "code",
   "execution_count": 26,
   "metadata": {},
   "outputs": [
    {
     "name": "stdout",
     "output_type": "stream",
     "text": [
      "train label shape (60000,)\n",
      "first 10 labels [5 0 4 1 9 2 1 3 1 4]\n"
     ]
    }
   ],
   "source": [
    "print('train label shape', y_train.shape)\n",
    "print('first 10 labels', y_train[:10])"
   ]
  },
  {
   "cell_type": "code",
   "execution_count": 27,
   "metadata": {},
   "outputs": [
    {
     "name": "stdout",
     "output_type": "stream",
     "text": [
      "label shape now: (60000, 10)\n",
      "first 10 labels:\n",
      " [[ 0.  0.  0.  0.  0.  1.  0.  0.  0.  0.]\n",
      " [ 1.  0.  0.  0.  0.  0.  0.  0.  0.  0.]\n",
      " [ 0.  0.  0.  0.  1.  0.  0.  0.  0.  0.]\n",
      " [ 0.  1.  0.  0.  0.  0.  0.  0.  0.  0.]\n",
      " [ 0.  0.  0.  0.  0.  0.  0.  0.  0.  1.]\n",
      " [ 0.  0.  1.  0.  0.  0.  0.  0.  0.  0.]\n",
      " [ 0.  1.  0.  0.  0.  0.  0.  0.  0.  0.]\n",
      " [ 0.  0.  0.  1.  0.  0.  0.  0.  0.  0.]\n",
      " [ 0.  1.  0.  0.  0.  0.  0.  0.  0.  0.]\n",
      " [ 0.  0.  0.  0.  1.  0.  0.  0.  0.  0.]]\n"
     ]
    }
   ],
   "source": [
    "# convert train labels to categorical classes\n",
    "y_train_c = np_utils.to_categorical(y_train, 10)\n",
    "y_test_c = np_utils.to_categorical(y_test,10)\n",
    "print('label shape now:', y_train_c.shape)\n",
    "print('first 10 labels:\\n', y_train_c[:10])"
   ]
  },
  {
   "cell_type": "code",
   "execution_count": 82,
   "metadata": {},
   "outputs": [],
   "source": [
    "# build NN model(1-layer)\n",
    "model = Sequential()\n",
    "model.add(Conv2D(32, (3, 3), activation='relu', input_shape=(28,28,1)))\n",
    "model.add(Flatten())\n",
    "model.add(Dense(10, activation='softmax'))\n",
    "model.compile(loss='mse', optimizer=optimizers.sgd(lr=0.1), metrics=['accuracy'])"
   ]
  },
  {
   "cell_type": "code",
   "execution_count": 43,
   "metadata": {},
   "outputs": [],
   "source": [
    "y_train_c_reshaped = y_train_c.reshape(y_train_c.shape[0],1,1,10)\n",
    "y_test_c_reshaped = y_test_c.reshape(y_test_c.shape[0],1,1,10)"
   ]
  },
  {
   "cell_type": "code",
   "execution_count": 53,
   "metadata": {},
   "outputs": [
    {
     "data": {
      "text/plain": [
       "(None, 10)"
      ]
     },
     "execution_count": 53,
     "metadata": {},
     "output_type": "execute_result"
    }
   ],
   "source": [
    "model.output_shape"
   ]
  },
  {
   "cell_type": "code",
   "execution_count": 67,
   "metadata": {
    "scrolled": true
   },
   "outputs": [
    {
     "name": "stdout",
     "output_type": "stream",
     "text": [
      "Epoch 1/10\n",
      "60000/60000 [==============================] - 24s 396us/step - loss: 0.0283 - acc: 0.8220\n",
      "Epoch 2/10\n",
      "60000/60000 [==============================] - 23s 388us/step - loss: 0.0138 - acc: 0.9104\n",
      "Epoch 3/10\n",
      "60000/60000 [==============================] - 23s 390us/step - loss: 0.0127 - acc: 0.9171\n",
      "Epoch 4/10\n",
      "60000/60000 [==============================] - 23s 389us/step - loss: 0.0121 - acc: 0.9215\n",
      "Epoch 5/10\n",
      "60000/60000 [==============================] - 24s 402us/step - loss: 0.0116 - acc: 0.9249\n",
      "Epoch 6/10\n",
      "60000/60000 [==============================] - 28s 464us/step - loss: 0.0111 - acc: 0.9279\n",
      "Epoch 7/10\n",
      "60000/60000 [==============================] - 29s 483us/step - loss: 0.0107 - acc: 0.9312\n",
      "Epoch 8/10\n",
      "60000/60000 [==============================] - 34s 571us/step - loss: 0.0102 - acc: 0.9346\n",
      "Epoch 9/10\n",
      "60000/60000 [==============================] - 35s 581us/step - loss: 0.0097 - acc: 0.9387\n",
      "Epoch 10/10\n",
      "60000/60000 [==============================] - 32s 533us/step - loss: 0.0092 - acc: 0.9419\n"
     ]
    },
    {
     "data": {
      "text/plain": [
       "<keras.callbacks.History at 0x18368f0710>"
      ]
     },
     "execution_count": 67,
     "metadata": {},
     "output_type": "execute_result"
    }
   ],
   "source": [
    "# fit model\n",
    "model.fit(x_train_norm_reshaped, y_train_c, batch_size=32, epochs=10, verbose=1)"
   ]
  },
  {
   "cell_type": "code",
   "execution_count": 68,
   "metadata": {},
   "outputs": [
    {
     "name": "stdout",
     "output_type": "stream",
     "text": [
      "10000/10000 [==============================] - 2s 212us/step\n"
     ]
    },
    {
     "data": {
      "text/plain": [
       "[0.0088659454149485097, 0.94279999999999997]"
      ]
     },
     "execution_count": 68,
     "metadata": {},
     "output_type": "execute_result"
    }
   ],
   "source": [
    "# score the model with the test data\n",
    "score = model.evaluate(x_test_norm_reshaped, y_test_c, verbose=1)\n",
    "score"
   ]
  },
  {
   "cell_type": "code",
   "execution_count": 83,
   "metadata": {},
   "outputs": [
    {
     "name": "stdout",
     "output_type": "stream",
     "text": [
      "Scores:\n",
      "20004/20004 [==============================] - 3s 156us/step\n",
      "Score: [0.012143852326196311, 0.92061587682463508]\n",
      "19999/19999 [==============================] - 3s 153us/step\n",
      "Score: [0.0099316269636154728, 0.93594679729814168]\n",
      "19997/19997 [==============================] - 3s 157us/step\n",
      "Score: [0.0072675501430646923, 0.95549332399859976]\n"
     ]
    }
   ],
   "source": [
    "# cross validation\n",
    "from sklearn.model_selection import StratifiedKFold\n",
    "skf = StratifiedKFold(n_splits=3)\n",
    "print('Scores:')\n",
    "for traini, testi in skf.split(x_train_norm_reshaped, y_train):\n",
    "    model.fit(x_train_norm_reshaped[traini], y_train_c[traini], batch_size=32, epochs=8, verbose=0)\n",
    "    print('Score:', model.evaluate(x_train_norm_reshaped[testi], y_train_c[testi]))"
   ]
  },
  {
   "cell_type": "code",
   "execution_count": 84,
   "metadata": {},
   "outputs": [],
   "source": [
    "# build 2-layer NN model\n",
    "model2 = Sequential()\n",
    "model2.add(Conv2D(32, (3, 3), activation='relu', input_shape=(28,28,1))) # first layer 2d-convolution\n",
    "model2.add(MaxPooling2D(pool_size=(2,2))) # second later 2d max pooling\n",
    "model2.add(Flatten())\n",
    "model2.add(Dense(10, activation='softmax'))\n",
    "model2.compile(loss='categorical_crossentropy', optimizer=optimizers.sgd(lr=0.05), metrics=['accuracy'])"
   ]
  },
  {
   "cell_type": "code",
   "execution_count": 74,
   "metadata": {},
   "outputs": [
    {
     "name": "stdout",
     "output_type": "stream",
     "text": [
      "Epoch 1/10\n",
      "60000/60000 [==============================] - 32s 530us/step - loss: 0.3480 - acc: 0.8966\n",
      "Epoch 2/10\n",
      "60000/60000 [==============================] - 29s 490us/step - loss: 0.1537 - acc: 0.9569\n",
      "Epoch 3/10\n",
      "60000/60000 [==============================] - 29s 488us/step - loss: 0.1016 - acc: 0.9716\n",
      "Epoch 4/10\n",
      "60000/60000 [==============================] - 30s 502us/step - loss: 0.0808 - acc: 0.9768\n",
      "Epoch 5/10\n",
      "60000/60000 [==============================] - 30s 501us/step - loss: 0.0701 - acc: 0.9794\n",
      "Epoch 6/10\n",
      "60000/60000 [==============================] - 31s 511us/step - loss: 0.0626 - acc: 0.9819\n",
      "Epoch 7/10\n",
      "60000/60000 [==============================] - 30s 506us/step - loss: 0.0571 - acc: 0.9831\n",
      "Epoch 8/10\n",
      "60000/60000 [==============================] - 30s 506us/step - loss: 0.0528 - acc: 0.9842\n",
      "Epoch 9/10\n",
      "60000/60000 [==============================] - 28s 466us/step - loss: 0.0490 - acc: 0.9857\n",
      "Epoch 10/10\n",
      "60000/60000 [==============================] - 28s 467us/step - loss: 0.0459 - acc: 0.9862\n"
     ]
    },
    {
     "data": {
      "text/plain": [
       "<keras.callbacks.History at 0x1837422470>"
      ]
     },
     "execution_count": 74,
     "metadata": {},
     "output_type": "execute_result"
    }
   ],
   "source": [
    "model2.fit(x_train_norm_reshaped, y_train_c, batch_size=32, epochs=10, verbose=1)"
   ]
  },
  {
   "cell_type": "code",
   "execution_count": 75,
   "metadata": {},
   "outputs": [
    {
     "name": "stdout",
     "output_type": "stream",
     "text": [
      "10000/10000 [==============================] - 1s 150us/step\n"
     ]
    },
    {
     "data": {
      "text/plain": [
       "[0.055043330189166594, 0.98260000000000003]"
      ]
     },
     "execution_count": 75,
     "metadata": {},
     "output_type": "execute_result"
    }
   ],
   "source": [
    "score2 = model2.evaluate(x_test_norm_reshaped, y_test_c, verbose=1)\n",
    "score2"
   ]
  },
  {
   "cell_type": "code",
   "execution_count": 86,
   "metadata": {},
   "outputs": [
    {
     "name": "stdout",
     "output_type": "stream",
     "text": [
      "Scores:\n",
      "20004/20004 [==============================] - 3s 150us/step\n",
      "[0.080776027125734562, 0.97660467906418713]\n",
      "19999/19999 [==============================] - 3s 125us/step\n",
      "[0.056507525260152416, 0.98329916491354219]\n",
      "19997/19997 [==============================] - 3s 125us/step\n",
      "[0.039801153043284916, 0.98739810971645747]\n"
     ]
    }
   ],
   "source": [
    "# cross validation for 2-layer NN\n",
    "skf = StratifiedKFold(n_splits=3)\n",
    "print('Scores:')\n",
    "for traini, testi in skf.split(x_train_norm_reshaped, y_train):\n",
    "    model2.fit(x_train_norm_reshaped[traini], y_train_c[traini], batch_size=32, epochs=8, verbose=0)\n",
    "    print(model2.evaluate(x_train_norm_reshaped[testi], y_train_c[testi]))"
   ]
  },
  {
   "cell_type": "code",
   "execution_count": null,
   "metadata": {},
   "outputs": [],
   "source": []
  }
 ],
 "metadata": {
  "kernelspec": {
   "display_name": "Python 3",
   "language": "python",
   "name": "python3"
  },
  "language_info": {
   "codemirror_mode": {
    "name": "ipython",
    "version": 3
   },
   "file_extension": ".py",
   "mimetype": "text/x-python",
   "name": "python",
   "nbconvert_exporter": "python",
   "pygments_lexer": "ipython3",
   "version": "3.6.3"
  }
 },
 "nbformat": 4,
 "nbformat_minor": 2
}
